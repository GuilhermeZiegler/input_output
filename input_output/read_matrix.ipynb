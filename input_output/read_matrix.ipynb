{
 "cells": [
  {
   "cell_type": "code",
   "execution_count": 1,
   "metadata": {},
   "outputs": [],
   "source": [
    "\n",
    "import os\n",
    "import pandas as pd\n"
   ]
  },
  {
   "cell_type": "code",
   "execution_count": 6,
   "metadata": {},
   "outputs": [
    {
     "data": {
      "text/plain": [
       "'c:\\\\Users\\\\guitz\\\\OneDrive\\\\Área de Trabalho\\\\input_output\\\\input_output\\\\data\\\\input_output_matrix'"
      ]
     },
     "metadata": {},
     "output_type": "display_data"
    },
    {
     "name": "stdout",
     "output_type": "stream",
     "text": [
      "Looking for directory: c:\\Users\\guitz\\OneDrive\\Área de Trabalho\\input_output\\input_output\\data\\input_output_matrix\\data\\input_output_matrix\\S68\\2018\n"
     ]
    },
    {
     "ename": "FileNotFoundError",
     "evalue": "The directory 'c:\\Users\\guitz\\OneDrive\\Área de Trabalho\\input_output\\input_output\\data\\input_output_matrix\\data\\input_output_matrix\\S68\\2018' does not exist.",
     "output_type": "error",
     "traceback": [
      "\u001b[1;31m---------------------------------------------------------------------------\u001b[0m",
      "\u001b[1;31mFileNotFoundError\u001b[0m                         Traceback (most recent call last)",
      "Cell \u001b[1;32mIn[6], line 68\u001b[0m\n\u001b[0;32m     66\u001b[0m year \u001b[38;5;241m=\u001b[39m \u001b[38;5;241m2018\u001b[39m  \u001b[38;5;66;03m# Atualize o ano conforme necessário\u001b[39;00m\n\u001b[0;32m     67\u001b[0m aggregation \u001b[38;5;241m=\u001b[39m \u001b[38;5;124m'\u001b[39m\u001b[38;5;124mS68\u001b[39m\u001b[38;5;124m'\u001b[39m  \u001b[38;5;66;03m# Atualize a agregação conforme necessário\u001b[39;00m\n\u001b[1;32m---> 68\u001b[0m excel_reader \u001b[38;5;241m=\u001b[39m ExcelReader(base_path, year\u001b[38;5;241m=\u001b[39myear, aggregation\u001b[38;5;241m=\u001b[39maggregation)\n\u001b[0;32m     70\u001b[0m \u001b[38;5;66;03m# Recuperar e imprimir os nomes de todas as planilhas\u001b[39;00m\n\u001b[0;32m     71\u001b[0m sheet_names \u001b[38;5;241m=\u001b[39m excel_reader\u001b[38;5;241m.\u001b[39mget_all_sheet_names()\n",
      "Cell \u001b[1;32mIn[6], line 9\u001b[0m, in \u001b[0;36mExcelReader.__init__\u001b[1;34m(self, base_path, year, aggregation)\u001b[0m\n\u001b[0;32m      7\u001b[0m \u001b[38;5;28mself\u001b[39m\u001b[38;5;241m.\u001b[39myear \u001b[38;5;241m=\u001b[39m year\n\u001b[0;32m      8\u001b[0m \u001b[38;5;28mself\u001b[39m\u001b[38;5;241m.\u001b[39maggregation \u001b[38;5;241m=\u001b[39m aggregation\n\u001b[1;32m----> 9\u001b[0m \u001b[38;5;28mself\u001b[39m\u001b[38;5;241m.\u001b[39mfile_path \u001b[38;5;241m=\u001b[39m \u001b[38;5;28mself\u001b[39m\u001b[38;5;241m.\u001b[39m_discover_excel_file()\n\u001b[0;32m     10\u001b[0m \u001b[38;5;28mself\u001b[39m\u001b[38;5;241m.\u001b[39mload_sheets()\n",
      "Cell \u001b[1;32mIn[6], line 18\u001b[0m, in \u001b[0;36mExcelReader._discover_excel_file\u001b[1;34m(self)\u001b[0m\n\u001b[0;32m     15\u001b[0m \u001b[38;5;28mprint\u001b[39m(\u001b[38;5;124mf\u001b[39m\u001b[38;5;124m\"\u001b[39m\u001b[38;5;124mLooking for directory: \u001b[39m\u001b[38;5;132;01m{\u001b[39;00mtarget_path\u001b[38;5;132;01m}\u001b[39;00m\u001b[38;5;124m\"\u001b[39m)\n\u001b[0;32m     17\u001b[0m \u001b[38;5;28;01mif\u001b[39;00m \u001b[38;5;129;01mnot\u001b[39;00m os\u001b[38;5;241m.\u001b[39mpath\u001b[38;5;241m.\u001b[39misdir(target_path):\n\u001b[1;32m---> 18\u001b[0m     \u001b[38;5;28;01mraise\u001b[39;00m \u001b[38;5;167;01mFileNotFoundError\u001b[39;00m(\u001b[38;5;124mf\u001b[39m\u001b[38;5;124m\"\u001b[39m\u001b[38;5;124mThe directory \u001b[39m\u001b[38;5;124m'\u001b[39m\u001b[38;5;132;01m{\u001b[39;00mtarget_path\u001b[38;5;132;01m}\u001b[39;00m\u001b[38;5;124m'\u001b[39m\u001b[38;5;124m does not exist.\u001b[39m\u001b[38;5;124m\"\u001b[39m)\n\u001b[0;32m     20\u001b[0m excel_files \u001b[38;5;241m=\u001b[39m [os\u001b[38;5;241m.\u001b[39mpath\u001b[38;5;241m.\u001b[39mjoin(target_path, file) \u001b[38;5;28;01mfor\u001b[39;00m file \u001b[38;5;129;01min\u001b[39;00m os\u001b[38;5;241m.\u001b[39mlistdir(target_path) \u001b[38;5;28;01mif\u001b[39;00m file\u001b[38;5;241m.\u001b[39mendswith(\u001b[38;5;124m'\u001b[39m\u001b[38;5;124m.xlsx\u001b[39m\u001b[38;5;124m'\u001b[39m)]\n\u001b[0;32m     22\u001b[0m \u001b[38;5;28;01mif\u001b[39;00m \u001b[38;5;28mlen\u001b[39m(excel_files) \u001b[38;5;241m!=\u001b[39m \u001b[38;5;241m1\u001b[39m:\n",
      "\u001b[1;31mFileNotFoundError\u001b[0m: The directory 'c:\\Users\\guitz\\OneDrive\\Área de Trabalho\\input_output\\input_output\\data\\input_output_matrix\\data\\input_output_matrix\\S68\\2018' does not exist."
     ]
    }
   ],
   "source": [
    "import os\n",
    "import pandas as pd\n",
    "\n",
    "class ExcelReader:\n",
    "    def __init__(self, base_path: str, year: int = 2018, aggregation: str = 'S68'):\n",
    "        self.base_path = base_path\n",
    "        self.year = year\n",
    "        self.aggregation = aggregation\n",
    "        self.file_path = self._discover_excel_file()\n",
    "        self.load_sheets()\n",
    "\n",
    "    def _discover_excel_file(self):\n",
    "        # Descobrir o arquivo Excel com base na agregação e no ano\n",
    "        target_path = os.path.join(self.base_path, 'data', 'input_output_matrix', self.aggregation, str(self.year))\n",
    "        print(f\"Looking for directory: {target_path}\")\n",
    "\n",
    "        if not os.path.isdir(target_path):\n",
    "            raise FileNotFoundError(f\"The directory '{target_path}' does not exist.\")\n",
    "        \n",
    "        excel_files = [os.path.join(target_path, file) for file in os.listdir(target_path) if file.endswith('.xlsx')]\n",
    "        \n",
    "        if len(excel_files) != 1:\n",
    "            raise FileNotFoundError(f\"Expected exactly one Excel file in '{target_path}', found {len(excel_files)}.\")\n",
    "        \n",
    "        return excel_files[0]\n",
    "\n",
    "    def load_sheets(self):\n",
    "        if self.file_path:\n",
    "            excel_data = pd.ExcelFile(self.file_path)\n",
    "            \n",
    "            # Verificar se a planilha 'data' existe\n",
    "            if 'data' in excel_data.sheet_names:\n",
    "                df = pd.read_excel(\n",
    "                    self.file_path,\n",
    "                    sheet_name='data',\n",
    "                    header=None,\n",
    "                    skiprows=4,  # Pular as linhas antes do início dos dados\n",
    "                    usecols='D:',  # Usar colunas a partir de 'D'\n",
    "                    index_col=None\n",
    "                )\n",
    "                \n",
    "                if df.shape[1] > 2:\n",
    "                    df.index = pd.MultiIndex.from_frame(df.iloc[:, 0:2], names=['Index1', 'Index2'])\n",
    "                    df = df.iloc[:, 2:]\n",
    "                    \n",
    "                    # Nomear o atributo como 'iom_{aggregation}_{year}_data'\n",
    "                    formatted_sheet_name = f\"iom_{self.aggregation}_{self.year}_data\"\n",
    "                    setattr(self, formatted_sheet_name, df)\n",
    "                else:\n",
    "                    print(f\"Warning: Sheet 'data' in file '{self.file_path}' does not have sufficient columns.\")\n",
    "            else:\n",
    "                raise ValueError(f\"Sheet 'data' not found in file '{self.file_path}'\")\n",
    "\n",
    "    def get_sheet_data(self):\n",
    "        formatted_sheet_name = f\"iom_{self.aggregation}_{self.year}_data\"\n",
    "        return getattr(self, formatted_sheet_name, None)\n",
    "\n",
    "    def get_all_sheet_names(self):\n",
    "        return [attr for attr in dir(self) if isinstance(getattr(self, attr), pd.DataFrame)]\n",
    "\n",
    "# Ajustar o caminho base considerando o local do Jupyter Notebook\n",
    "notebook_directory = os.path.dirname(os.path.abspath('read_matrix.ipynb'))\n",
    "base_path = os.path.join(notebook_directory, 'data', 'input_output_matrix')\n",
    "display(base_path)\n",
    "# Criar uma instância de ExcelReader\n",
    "year = 2018  # Atualize o ano conforme necessário\n",
    "aggregation = 'S68'  # Atualize a agregação conforme necessário\n",
    "excel_reader = ExcelReader(base_path, year=year, aggregation=aggregation)\n",
    "\n",
    "# Recuperar e imprimir os nomes de todas as planilhas\n",
    "sheet_names = excel_reader.get_all_sheet_names()\n",
    "print(f\"Sheet names: {sheet_names}\")\n",
    "\n",
    "# Exemplo: Recuperar dados da planilha específica\n",
    "data = excel_reader.get_sheet_data()\n",
    "if data is not None:\n",
    "    print(f\"Data from sheet 'data':\")\n",
    "    print(data.head())\n",
    "else:\n",
    "    print(f\"No data found for sheet 'data'\")\n",
    "\n",
    "\n"
   ]
  },
  {
   "cell_type": "code",
   "execution_count": 5,
   "metadata": {},
   "outputs": [
    {
     "name": "stdout",
     "output_type": "stream",
     "text": [
      "Looking for directory: ..\\data\\input_output_matrix\\data\\input_output_matrix\\S68\\2011\n"
     ]
    },
    {
     "ename": "FileNotFoundError",
     "evalue": "The directory '..\\data\\input_output_matrix\\data\\input_output_matrix\\S68\\2011' does not exist.",
     "output_type": "error",
     "traceback": [
      "\u001b[1;31m---------------------------------------------------------------------------\u001b[0m",
      "\u001b[1;31mFileNotFoundError\u001b[0m                         Traceback (most recent call last)",
      "Cell \u001b[1;32mIn[5], line 4\u001b[0m\n\u001b[0;32m      2\u001b[0m year \u001b[38;5;241m=\u001b[39m \u001b[38;5;241m2011\u001b[39m\n\u001b[0;32m      3\u001b[0m aggregation \u001b[38;5;241m=\u001b[39m \u001b[38;5;124m'\u001b[39m\u001b[38;5;124mS68\u001b[39m\u001b[38;5;124m'\u001b[39m\n\u001b[1;32m----> 4\u001b[0m excel_reader \u001b[38;5;241m=\u001b[39m ExcelReader(base_path, year\u001b[38;5;241m=\u001b[39myear, aggregation\u001b[38;5;241m=\u001b[39maggregation)\n",
      "Cell \u001b[1;32mIn[4], line 9\u001b[0m, in \u001b[0;36mExcelReader.__init__\u001b[1;34m(self, base_path, year, aggregation)\u001b[0m\n\u001b[0;32m      7\u001b[0m \u001b[38;5;28mself\u001b[39m\u001b[38;5;241m.\u001b[39myear \u001b[38;5;241m=\u001b[39m year\n\u001b[0;32m      8\u001b[0m \u001b[38;5;28mself\u001b[39m\u001b[38;5;241m.\u001b[39maggregation \u001b[38;5;241m=\u001b[39m aggregation\n\u001b[1;32m----> 9\u001b[0m \u001b[38;5;28mself\u001b[39m\u001b[38;5;241m.\u001b[39mfile_path \u001b[38;5;241m=\u001b[39m \u001b[38;5;28mself\u001b[39m\u001b[38;5;241m.\u001b[39m_discover_excel_file()\n\u001b[0;32m     10\u001b[0m \u001b[38;5;28mself\u001b[39m\u001b[38;5;241m.\u001b[39mload_sheets()\n",
      "Cell \u001b[1;32mIn[4], line 18\u001b[0m, in \u001b[0;36mExcelReader._discover_excel_file\u001b[1;34m(self)\u001b[0m\n\u001b[0;32m     15\u001b[0m \u001b[38;5;28mprint\u001b[39m(\u001b[38;5;124mf\u001b[39m\u001b[38;5;124m\"\u001b[39m\u001b[38;5;124mLooking for directory: \u001b[39m\u001b[38;5;132;01m{\u001b[39;00mtarget_path\u001b[38;5;132;01m}\u001b[39;00m\u001b[38;5;124m\"\u001b[39m)\n\u001b[0;32m     17\u001b[0m \u001b[38;5;28;01mif\u001b[39;00m \u001b[38;5;129;01mnot\u001b[39;00m os\u001b[38;5;241m.\u001b[39mpath\u001b[38;5;241m.\u001b[39misdir(target_path):\n\u001b[1;32m---> 18\u001b[0m     \u001b[38;5;28;01mraise\u001b[39;00m \u001b[38;5;167;01mFileNotFoundError\u001b[39;00m(\u001b[38;5;124mf\u001b[39m\u001b[38;5;124m\"\u001b[39m\u001b[38;5;124mThe directory \u001b[39m\u001b[38;5;124m'\u001b[39m\u001b[38;5;132;01m{\u001b[39;00mtarget_path\u001b[38;5;132;01m}\u001b[39;00m\u001b[38;5;124m'\u001b[39m\u001b[38;5;124m does not exist.\u001b[39m\u001b[38;5;124m\"\u001b[39m)\n\u001b[0;32m     20\u001b[0m excel_files \u001b[38;5;241m=\u001b[39m [os\u001b[38;5;241m.\u001b[39mpath\u001b[38;5;241m.\u001b[39mjoin(target_path, file) \u001b[38;5;28;01mfor\u001b[39;00m file \u001b[38;5;129;01min\u001b[39;00m os\u001b[38;5;241m.\u001b[39mlistdir(target_path) \u001b[38;5;28;01mif\u001b[39;00m file\u001b[38;5;241m.\u001b[39mendswith(\u001b[38;5;124m'\u001b[39m\u001b[38;5;124m.xlsx\u001b[39m\u001b[38;5;124m'\u001b[39m)]\n\u001b[0;32m     22\u001b[0m \u001b[38;5;28;01mif\u001b[39;00m \u001b[38;5;28mlen\u001b[39m(excel_files) \u001b[38;5;241m!=\u001b[39m \u001b[38;5;241m1\u001b[39m:\n",
      "\u001b[1;31mFileNotFoundError\u001b[0m: The directory '..\\data\\input_output_matrix\\data\\input_output_matrix\\S68\\2011' does not exist."
     ]
    }
   ],
   "source": [
    "# Create an instance of ExcelReader\n",
    "year = 2011\n",
    "aggregation = 'S68'\n",
    "excel_reader = ExcelReader(base_path, year=year, aggregation=aggregation)"
   ]
  },
  {
   "cell_type": "code",
   "execution_count": null,
   "metadata": {},
   "outputs": [],
   "source": [
    "file_path = '..//data//'S68'// 2018//MIP-BR-CN10-68S-2014.xlsx'\n",
    "df = pd.read_excel(file_path)\n",
    "# excel_reader = ExcelReader(file_path)"
   ]
  },
  {
   "cell_type": "code",
   "execution_count": 8,
   "metadata": {},
   "outputs": [],
   "source": [
    "file_path = '..//data//S68//2018//MIP-BR-CN10-68S-2014.xlsx'\n"
   ]
  },
  {
   "cell_type": "code",
   "execution_count": 9,
   "metadata": {},
   "outputs": [
    {
     "ename": "FileNotFoundError",
     "evalue": "[Errno 2] No such file or directory: '..//data//S68//2018//MIP-BR-CN10-68S-2014.xlsx'",
     "output_type": "error",
     "traceback": [
      "\u001b[1;31m---------------------------------------------------------------------------\u001b[0m",
      "\u001b[1;31mFileNotFoundError\u001b[0m                         Traceback (most recent call last)",
      "Cell \u001b[1;32mIn[9], line 1\u001b[0m\n\u001b[1;32m----> 1\u001b[0m df \u001b[38;5;241m=\u001b[39m pd\u001b[38;5;241m.\u001b[39mread_excel(file_path)\n",
      "File \u001b[1;32mc:\\Users\\guitz\\anaconda3\\Lib\\site-packages\\pandas\\io\\excel\\_base.py:478\u001b[0m, in \u001b[0;36mread_excel\u001b[1;34m(io, sheet_name, header, names, index_col, usecols, dtype, engine, converters, true_values, false_values, skiprows, nrows, na_values, keep_default_na, na_filter, verbose, parse_dates, date_parser, date_format, thousands, decimal, comment, skipfooter, storage_options, dtype_backend)\u001b[0m\n\u001b[0;32m    476\u001b[0m \u001b[38;5;28;01mif\u001b[39;00m \u001b[38;5;129;01mnot\u001b[39;00m \u001b[38;5;28misinstance\u001b[39m(io, ExcelFile):\n\u001b[0;32m    477\u001b[0m     should_close \u001b[38;5;241m=\u001b[39m \u001b[38;5;28;01mTrue\u001b[39;00m\n\u001b[1;32m--> 478\u001b[0m     io \u001b[38;5;241m=\u001b[39m ExcelFile(io, storage_options\u001b[38;5;241m=\u001b[39mstorage_options, engine\u001b[38;5;241m=\u001b[39mengine)\n\u001b[0;32m    479\u001b[0m \u001b[38;5;28;01melif\u001b[39;00m engine \u001b[38;5;129;01mand\u001b[39;00m engine \u001b[38;5;241m!=\u001b[39m io\u001b[38;5;241m.\u001b[39mengine:\n\u001b[0;32m    480\u001b[0m     \u001b[38;5;28;01mraise\u001b[39;00m \u001b[38;5;167;01mValueError\u001b[39;00m(\n\u001b[0;32m    481\u001b[0m         \u001b[38;5;124m\"\u001b[39m\u001b[38;5;124mEngine should not be specified when passing \u001b[39m\u001b[38;5;124m\"\u001b[39m\n\u001b[0;32m    482\u001b[0m         \u001b[38;5;124m\"\u001b[39m\u001b[38;5;124man ExcelFile - ExcelFile already has the engine set\u001b[39m\u001b[38;5;124m\"\u001b[39m\n\u001b[0;32m    483\u001b[0m     )\n",
      "File \u001b[1;32mc:\\Users\\guitz\\anaconda3\\Lib\\site-packages\\pandas\\io\\excel\\_base.py:1496\u001b[0m, in \u001b[0;36mExcelFile.__init__\u001b[1;34m(self, path_or_buffer, engine, storage_options)\u001b[0m\n\u001b[0;32m   1494\u001b[0m     ext \u001b[38;5;241m=\u001b[39m \u001b[38;5;124m\"\u001b[39m\u001b[38;5;124mxls\u001b[39m\u001b[38;5;124m\"\u001b[39m\n\u001b[0;32m   1495\u001b[0m \u001b[38;5;28;01melse\u001b[39;00m:\n\u001b[1;32m-> 1496\u001b[0m     ext \u001b[38;5;241m=\u001b[39m inspect_excel_format(\n\u001b[0;32m   1497\u001b[0m         content_or_path\u001b[38;5;241m=\u001b[39mpath_or_buffer, storage_options\u001b[38;5;241m=\u001b[39mstorage_options\n\u001b[0;32m   1498\u001b[0m     )\n\u001b[0;32m   1499\u001b[0m     \u001b[38;5;28;01mif\u001b[39;00m ext \u001b[38;5;129;01mis\u001b[39;00m \u001b[38;5;28;01mNone\u001b[39;00m:\n\u001b[0;32m   1500\u001b[0m         \u001b[38;5;28;01mraise\u001b[39;00m \u001b[38;5;167;01mValueError\u001b[39;00m(\n\u001b[0;32m   1501\u001b[0m             \u001b[38;5;124m\"\u001b[39m\u001b[38;5;124mExcel file format cannot be determined, you must specify \u001b[39m\u001b[38;5;124m\"\u001b[39m\n\u001b[0;32m   1502\u001b[0m             \u001b[38;5;124m\"\u001b[39m\u001b[38;5;124man engine manually.\u001b[39m\u001b[38;5;124m\"\u001b[39m\n\u001b[0;32m   1503\u001b[0m         )\n",
      "File \u001b[1;32mc:\\Users\\guitz\\anaconda3\\Lib\\site-packages\\pandas\\io\\excel\\_base.py:1371\u001b[0m, in \u001b[0;36minspect_excel_format\u001b[1;34m(content_or_path, storage_options)\u001b[0m\n\u001b[0;32m   1368\u001b[0m \u001b[38;5;28;01mif\u001b[39;00m \u001b[38;5;28misinstance\u001b[39m(content_or_path, \u001b[38;5;28mbytes\u001b[39m):\n\u001b[0;32m   1369\u001b[0m     content_or_path \u001b[38;5;241m=\u001b[39m BytesIO(content_or_path)\n\u001b[1;32m-> 1371\u001b[0m \u001b[38;5;28;01mwith\u001b[39;00m get_handle(\n\u001b[0;32m   1372\u001b[0m     content_or_path, \u001b[38;5;124m\"\u001b[39m\u001b[38;5;124mrb\u001b[39m\u001b[38;5;124m\"\u001b[39m, storage_options\u001b[38;5;241m=\u001b[39mstorage_options, is_text\u001b[38;5;241m=\u001b[39m\u001b[38;5;28;01mFalse\u001b[39;00m\n\u001b[0;32m   1373\u001b[0m ) \u001b[38;5;28;01mas\u001b[39;00m handle:\n\u001b[0;32m   1374\u001b[0m     stream \u001b[38;5;241m=\u001b[39m handle\u001b[38;5;241m.\u001b[39mhandle\n\u001b[0;32m   1375\u001b[0m     stream\u001b[38;5;241m.\u001b[39mseek(\u001b[38;5;241m0\u001b[39m)\n",
      "File \u001b[1;32mc:\\Users\\guitz\\anaconda3\\Lib\\site-packages\\pandas\\io\\common.py:868\u001b[0m, in \u001b[0;36mget_handle\u001b[1;34m(path_or_buf, mode, encoding, compression, memory_map, is_text, errors, storage_options)\u001b[0m\n\u001b[0;32m    859\u001b[0m         handle \u001b[38;5;241m=\u001b[39m \u001b[38;5;28mopen\u001b[39m(\n\u001b[0;32m    860\u001b[0m             handle,\n\u001b[0;32m    861\u001b[0m             ioargs\u001b[38;5;241m.\u001b[39mmode,\n\u001b[1;32m   (...)\u001b[0m\n\u001b[0;32m    864\u001b[0m             newline\u001b[38;5;241m=\u001b[39m\u001b[38;5;124m\"\u001b[39m\u001b[38;5;124m\"\u001b[39m,\n\u001b[0;32m    865\u001b[0m         )\n\u001b[0;32m    866\u001b[0m     \u001b[38;5;28;01melse\u001b[39;00m:\n\u001b[0;32m    867\u001b[0m         \u001b[38;5;66;03m# Binary mode\u001b[39;00m\n\u001b[1;32m--> 868\u001b[0m         handle \u001b[38;5;241m=\u001b[39m \u001b[38;5;28mopen\u001b[39m(handle, ioargs\u001b[38;5;241m.\u001b[39mmode)\n\u001b[0;32m    869\u001b[0m     handles\u001b[38;5;241m.\u001b[39mappend(handle)\n\u001b[0;32m    871\u001b[0m \u001b[38;5;66;03m# Convert BytesIO or file objects passed with an encoding\u001b[39;00m\n",
      "\u001b[1;31mFileNotFoundError\u001b[0m: [Errno 2] No such file or directory: '..//data//S68//2018//MIP-BR-CN10-68S-2014.xlsx'"
     ]
    }
   ],
   "source": [
    "df = pd.read_excel(file_path)\n"
   ]
  },
  {
   "cell_type": "code",
   "execution_count": null,
   "metadata": {},
   "outputs": [],
   "source": []
  }
 ],
 "metadata": {
  "kernelspec": {
   "display_name": "base",
   "language": "python",
   "name": "python3"
  },
  "language_info": {
   "codemirror_mode": {
    "name": "ipython",
    "version": 3
   },
   "file_extension": ".py",
   "mimetype": "text/x-python",
   "name": "python",
   "nbconvert_exporter": "python",
   "pygments_lexer": "ipython3",
   "version": "3.11.5"
  }
 },
 "nbformat": 4,
 "nbformat_minor": 2
}
